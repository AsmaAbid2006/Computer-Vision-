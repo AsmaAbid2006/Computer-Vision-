{
 "cells": [
  {
   "cell_type": "code",
   "execution_count": 1,
   "metadata": {},
   "outputs": [],
   "source": [
    "import cv2\n",
    "import dlib\n",
    "\n",
    "import matplotlib.pyplot as plt\n"
   ]
  },
  {
   "cell_type": "code",
   "execution_count": 2,
   "metadata": {},
   "outputs": [],
   "source": [
    "def hogDetectFaces(image, hog_face_detector, display = True):\n",
    "    height, width, _ = image.shape\n",
    "    output_image = image.copy()\n",
    "    imgGRAY = cv2.cvtColor(image, cv2.COLOR_BGR2GRAY)\n",
    "    results = hog_face_detector(output_image, 0)\n",
    "    for bbox in results:\n",
    "        x1 = bbox.left()\n",
    "        y1 = bbox.top()\n",
    "        x2 = bbox.right()\n",
    "        y2 = bbox.bottom()\n",
    "        cv2.rectangle(output_image, pt1=(x1, y1), pt2=(x2, y2), color=(0, 255, 0),thickness=width//200)\n",
    "        crop_img = image [y1:y2, x1:x2]\n",
    "        crop_img = cv2.resize(crop_img,(500,500))\n",
    "        cv2.imshow('crop', crop_img)\n",
    "        cv2.imwrite('crop/face_dlib.jpg', crop_img)\n",
    "    output_image = cv2.resize(output_image,(500,500))\n",
    "    cv2.imshow('detected', output_image)\n",
    "    return output_image\n",
    "detector = dlib.get_frontal_face_detector()\n",
    "image = cv2.imread(\"imageb.jpg\")\n",
    "image.astype('uint8')\n",
    "output_image = hogDetectFaces(image, detector)\n",
    "cv2.imshow(\"Detected Faces\", output_image)\n",
    "cv2.waitKey(0)\n",
    "cv2.destroyAllWindows()\n"
   ]
  },
  {
   "cell_type": "code",
   "execution_count": null,
   "metadata": {},
   "outputs": [],
   "source": []
  }
 ],
 "metadata": {
  "kernelspec": {
   "display_name": "myenv",
   "language": "python",
   "name": "python3"
  },
  "language_info": {
   "codemirror_mode": {
    "name": "ipython",
    "version": 3
   },
   "file_extension": ".py",
   "mimetype": "text/x-python",
   "name": "python",
   "nbconvert_exporter": "python",
   "pygments_lexer": "ipython3",
   "version": "3.10.12"
  }
 },
 "nbformat": 4,
 "nbformat_minor": 2
}
